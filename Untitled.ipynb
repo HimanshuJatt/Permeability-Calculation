{
 "cells": [
  {
   "cell_type": "markdown",
   "id": "7c11d3e8-ca54-4461-93aa-ab914263dd7f",
   "metadata": {},
   "source": []
  },
  {
   "cell_type": "code",
   "execution_count": 11,
   "id": "a7ce967c-2f35-4c8f-a45f-439dedced71b",
   "metadata": {},
   "outputs": [
    {
     "name": "stdin",
     "output_type": "stream",
     "text": [
      "Enter your first guess of absolute permeability K1:  33\n",
      "Enter Mean pr. pm:  2.152\n",
      "Enter k(air) = kg:  46\n"
     ]
    },
    {
     "name": "stdout",
     "output_type": "stream",
     "text": [
      "The final value of perm k is: 22.491569313154535\n"
     ]
    }
   ],
   "source": [
    "\n",
    "k = float(input(\"Enter your first guess of absolute permeability K1: \"))\n",
    "\n",
    "\n",
    "pm = float(input(\"Enter Mean pr. pm: \"))\n",
    "\n",
    "\n",
    "kg = float(input(\"Enter k(air) = kg: \"))\n",
    "\n",
    "\n",
    "def f(k):\n",
    "    return 6.9 * (k**0.64) + pm * k - pm * kg\n",
    "\n",
    "def f_prime(k):\n",
    "    return 4.416 * (k**0.36) + pm\n",
    "\n",
    "\n",
    "while abs(f(k)) > 0.01:\n",
    "    k = k - f(k) / f_prime(k)\n",
    "\n",
    "\n",
    "print(f\"The final value of perm k is: {k}\")\n"
   ]
  },
  {
   "cell_type": "code",
   "execution_count": null,
   "id": "20331ee3-c972-458c-bb59-d3e4ffe82c32",
   "metadata": {},
   "outputs": [],
   "source": []
  }
 ],
 "metadata": {
  "kernelspec": {
   "display_name": "Python 3 (ipykernel)",
   "language": "python",
   "name": "python3"
  },
  "language_info": {
   "codemirror_mode": {
    "name": "ipython",
    "version": 3
   },
   "file_extension": ".py",
   "mimetype": "text/x-python",
   "name": "python",
   "nbconvert_exporter": "python",
   "pygments_lexer": "ipython3",
   "version": "3.12.4"
  }
 },
 "nbformat": 4,
 "nbformat_minor": 5
}
