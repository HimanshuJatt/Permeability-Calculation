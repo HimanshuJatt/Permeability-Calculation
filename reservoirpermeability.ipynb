{
 "cells": [
  {
   "cell_type": "code",
   "execution_count": 1,
   "id": "92de1ca8-a395-422f-8bde-41c2fc80e8d1",
   "metadata": {},
   "outputs": [
    {
     "name": "stderr",
     "output_type": "stream",
     "text": [
      "<>:1: SyntaxWarning: invalid escape sequence '\\E'\n",
      "<>:1: SyntaxWarning: invalid escape sequence '\\E'\n",
      "C:\\Users\\dell\\AppData\\Local\\Temp\\ipykernel_30868\\3251922391.py:1: SyntaxWarning: invalid escape sequence '\\E'\n",
      "  k = input(\"\\Enter your first guess of absoulute permeability K1: \")\n"
     ]
    },
    {
     "name": "stdin",
     "output_type": "stream",
     "text": [
      "\\Enter your first guess of absoulute permeability K1:  5\n",
      "\n",
      "Enter Mean pr. pm:  6\n",
      "\n",
      "Enter k(air) = kg:  6\n"
     ]
    },
    {
     "name": "stdout",
     "output_type": "stream",
     "text": [
      " The final value of perm k is : 3.4571831526052588\n"
     ]
    }
   ],
   "source": [
    "k = input(\"\\Enter your first guess of absoulute permeability K1: \")\n",
    "\n",
    "k = float(k)\n",
    "\n",
    "#f(k=K1) = 6.9KL^(0.64) + pmKL - pmKg = 0\n",
    "#f'(K) = 4.416 Ki^(0.36) + pm: \")\n",
    "\n",
    "pm = input(\"\\nEnter Mean pr. pm: \")\n",
    "pm = float(pm)\n",
    "\n",
    "kg = input(\"\\nEnter k(air) = kg: \")\n",
    "kg = float(kg)\n",
    "\n",
    "while abs(6.9*(k**0.64) + pm*k - pm*kg) > 0.01:\n",
    "    k = k - (6.9*(k**0.64) + pm*k - pm*kg) / (4.416*(k**(0.36)) + pm)\n",
    "\n",
    "print(f\" The final value of perm k is : {k}\")\n"
   ]
  },
  {
   "cell_type": "code",
   "execution_count": null,
   "id": "cd94acb8-1dfb-48f0-816b-da863c602101",
   "metadata": {},
   "outputs": [],
   "source": []
  }
 ],
 "metadata": {
  "kernelspec": {
   "display_name": "Python 3 (ipykernel)",
   "language": "python",
   "name": "python3"
  },
  "language_info": {
   "codemirror_mode": {
    "name": "ipython",
    "version": 3
   },
   "file_extension": ".py",
   "mimetype": "text/x-python",
   "name": "python",
   "nbconvert_exporter": "python",
   "pygments_lexer": "ipython3",
   "version": "3.12.4"
  }
 },
 "nbformat": 4,
 "nbformat_minor": 5
}
